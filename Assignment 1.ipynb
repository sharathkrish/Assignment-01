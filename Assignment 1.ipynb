{
 "cells": [
  {
   "cell_type": "code",
   "execution_count": null,
   "id": "f9b3fa35",
   "metadata": {},
   "outputs": [],
   "source": [
    "1. In the below elements which of them are values or an expression? eg:- values can be integer or string and expressions will be mathematical operators.\n",
    "\n",
    "Values\n",
    "\n",
    "'hello' \n",
    "-87.8\n",
    "6 \n",
    "\n",
    "Expressions\n",
    "\n",
    "* \n",
    "- \n",
    "/ \n",
    "+"
   ]
  },
  {
   "cell_type": "code",
   "execution_count": null,
   "id": "e8f60c40",
   "metadata": {},
   "outputs": [],
   "source": [
    "2. What is the difference between string and variable?\n",
    "\n",
    "Strings is a dataype in python usually defined using single or double quotes\n",
    "Variable is used to store data/values which can be used in our python program"
   ]
  },
  {
   "cell_type": "code",
   "execution_count": null,
   "id": "91b1524f",
   "metadata": {},
   "outputs": [],
   "source": [
    "3. Describe three different data types\n",
    "\n",
    "Python Numbers - Consist of integers, floating/decimal numbers, complex numbers\n",
    "Boolean - used to define whether TRUE or FALSE\n",
    "String  - used to define set of characters."
   ]
  },
  {
   "cell_type": "code",
   "execution_count": null,
   "id": "04e3218e",
   "metadata": {},
   "outputs": [],
   "source": [
    "4. What is an expression made up of? What do all expressions do?\n",
    "\n",
    "Expressions are made of mathematical operators that will generate/produce new values which is also a combination of operators,\n",
    "variables and values.\n",
    "eg : 2+3, 3*4 "
   ]
  },
  {
   "cell_type": "code",
   "execution_count": null,
   "id": "95486fae",
   "metadata": {},
   "outputs": [],
   "source": [
    "5. This assignment statements, like spam = 10. What is the difference between an expression and a statement?\n",
    "\n",
    "Statement is an action or command eg: print statements, assignment statements\n",
    "    eg : 1+3 is expression, Xoo=1+3 is statement"
   ]
  },
  {
   "cell_type": "code",
   "execution_count": 5,
   "id": "b7744a76",
   "metadata": {},
   "outputs": [
    {
     "data": {
      "text/plain": [
       "23"
      ]
     },
     "execution_count": 5,
     "metadata": {},
     "output_type": "execute_result"
    }
   ],
   "source": [
    "6. After running the following code, what does the variable bacon?\n",
    "bacon = 22\n",
    "bacon + 1"
   ]
  },
  {
   "cell_type": "raw",
   "id": "19e9b7e0",
   "metadata": {},
   "source": [
    "7. What should the values of the following two terms be?"
   ]
  },
  {
   "cell_type": "code",
   "execution_count": 7,
   "id": "302559a9",
   "metadata": {},
   "outputs": [
    {
     "data": {
      "text/plain": [
       "'spamspamspam'"
      ]
     },
     "execution_count": 7,
     "metadata": {},
     "output_type": "execute_result"
    }
   ],
   "source": [
    "'spam' + 'spamspam'"
   ]
  },
  {
   "cell_type": "code",
   "execution_count": 8,
   "id": "089a11a1",
   "metadata": {},
   "outputs": [
    {
     "data": {
      "text/plain": [
       "'spamspamspam'"
      ]
     },
     "execution_count": 8,
     "metadata": {},
     "output_type": "execute_result"
    }
   ],
   "source": [
    "'spam' * 3"
   ]
  },
  {
   "cell_type": "code",
   "execution_count": null,
   "id": "31aa79db",
   "metadata": {},
   "outputs": [],
   "source": [
    "8. Why is eggs a valid variable name while 100 is invalid?\n",
    "\n",
    "Because valriables cannot begin with a number."
   ]
  },
  {
   "cell_type": "code",
   "execution_count": null,
   "id": "5882499e",
   "metadata": {},
   "outputs": [],
   "source": [
    "9. What three functions can be used to get the integer, floating-point number, or string version of a value?\n",
    "\n",
    "int() , float() , and str( ) functions"
   ]
  },
  {
   "cell_type": "code",
   "execution_count": null,
   "id": "e35f8df8",
   "metadata": {},
   "outputs": [],
   "source": [
    "10. Why does this expression cause an error? How can you fix it?\n",
    "'I have eaten ' + 99 + ' burritos.'\n",
    "\n",
    "'I have eaten ' + '99' + ' burritos.'   -----> convert 99 to '99'"
   ]
  }
 ],
 "metadata": {
  "kernelspec": {
   "display_name": "Python 3 (ipykernel)",
   "language": "python",
   "name": "python3"
  },
  "language_info": {
   "codemirror_mode": {
    "name": "ipython",
    "version": 3
   },
   "file_extension": ".py",
   "mimetype": "text/x-python",
   "name": "python",
   "nbconvert_exporter": "python",
   "pygments_lexer": "ipython3",
   "version": "3.9.7"
  }
 },
 "nbformat": 4,
 "nbformat_minor": 5
}
